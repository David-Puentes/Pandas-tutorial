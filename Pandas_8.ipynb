{
 "cells": [
  {
   "cell_type": "code",
   "execution_count": 1,
   "metadata": {
    "collapsed": true
   },
   "outputs": [],
   "source": [
    "import pandas as pd\n",
    "import numpy as np\n",
    "import matplotlib.pyplot as plt\n",
    "import os\n",
    "import sys"
   ]
  },
  {
   "cell_type": "code",
   "execution_count": 52,
   "metadata": {},
   "outputs": [
    {
     "data": {
      "text/html": [
       "<div>\n",
       "<style>\n",
       "    .dataframe thead tr:only-child th {\n",
       "        text-align: right;\n",
       "    }\n",
       "\n",
       "    .dataframe thead th {\n",
       "        text-align: left;\n",
       "    }\n",
       "\n",
       "    .dataframe tbody tr th {\n",
       "        vertical-align: top;\n",
       "    }\n",
       "</style>\n",
       "<table border=\"1\" class=\"dataframe\">\n",
       "  <thead>\n",
       "    <tr style=\"text-align: right;\">\n",
       "      <th></th>\n",
       "      <th>Chanel</th>\n",
       "      <th>Number</th>\n",
       "    </tr>\n",
       "  </thead>\n",
       "  <tbody>\n",
       "    <tr>\n",
       "      <th>0</th>\n",
       "      <td>1</td>\n",
       "      <td>255</td>\n",
       "    </tr>\n",
       "  </tbody>\n",
       "</table>\n",
       "</div>"
      ],
      "text/plain": [
       "   Chanel  Number\n",
       "0       1     255"
      ]
     },
     "execution_count": 52,
     "metadata": {},
     "output_type": "execute_result"
    }
   ],
   "source": [
    "# Crear tres DataFrame\n",
    "d={\"Chanel\":[1],\"Number\":[255]}\n",
    "df=pd.DataFrame(d)\n",
    "df"
   ]
  },
  {
   "cell_type": "code",
   "execution_count": 34,
   "metadata": {
    "collapsed": true
   },
   "outputs": [],
   "source": [
    "# Exportar a excel\n",
    "df.to_excel('test1.xlsx', sheet_name = 'test1', index = False)\n",
    "df.to_excel('test2.xlsx', sheet_name = 'test2', index = False)\n",
    "df.to_excel('test3.xlsx', sheet_name = 'test3', index = False)"
   ]
  },
  {
   "cell_type": "code",
   "execution_count": 4,
   "metadata": {},
   "outputs": [
    {
     "data": {
      "text/plain": [
       "['17409991_10210438867580588_989582687_n.jpg',\n",
       " 'ANÁLISIS BIBLIOMÉTRICO.docx',\n",
       " 'Cedula.pdf',\n",
       " 'DavidPuentes - Chrome.lnk',\n",
       " 'desktop.ini',\n",
       " 'Flores.txt',\n",
       " 'FORMATO DE AVANCE SEMILLEROS DE INVESTIGACIÓN- IDCEA.docx',\n",
       " 'FORMATO DE AVANCE SEMILLEROS DE INVESTIGACIÓN-FINANCE.docx',\n",
       " 'Google Drive.lnk',\n",
       " 'Industria del cacao colombiano alcanza cifras históricas.html',\n",
       " 'Industria del cacao colombiano alcanza cifras históricas_files',\n",
       " 'Liberar Espacio.lnk',\n",
       " 'Libro1.csv',\n",
       " 'Peso.csv',\n",
       " 'Queja claro.txt',\n",
       " 'test1.xlsx',\n",
       " 'test2.xlsx',\n",
       " 'test3.xlsx']"
      ]
     },
     "execution_count": 4,
     "metadata": {},
     "output_type": "execute_result"
    }
   ],
   "source": [
    "# Llamar múltiple documentos\n",
    "Filenames=[]\n",
    "os.chdir(r\"C:\\Users\\TOSHIBA-PC\\Desktop\") # Cambiar la ubicación donde se guarda\n",
    "\n",
    "#Encontrar cualquier archivo con terminación xlsx\n",
    "for files in os.listdir(\".\"):\n",
    "    if files.endswith(\".xlsx\"):\n",
    "        Filenames.append(files)\n",
    "Filenames"
   ]
  },
  {
   "cell_type": "code",
   "execution_count": 53,
   "metadata": {
    "collapsed": true
   },
   "outputs": [],
   "source": [
    "# Definir una función para abrir los archivos\n",
    "\n",
    "def getfiles(fnombre):\n",
    "    location=r\"C:\\Users\\TOSHIBA-PC\\Desktop\\\\\" + fnombre\n",
    "    df=pd.read_excel(location,0)\n",
    "    df[\"File\"]=fnombre # Se crea una nueva columna con el nombre de cada archivo\n",
    "    return df.set_index([\"File\"]) # Convierte en indices los nombres de cada archivo\n"
   ]
  },
  {
   "cell_type": "code",
   "execution_count": 54,
   "metadata": {},
   "outputs": [
    {
     "data": {
      "text/plain": [
       "[            Chanel  Number\n",
       " File                      \n",
       " test1.xlsx       1     255,             Chanel  Number\n",
       " File                      \n",
       " test2.xlsx       1     255,             Chanel  Number\n",
       " File                      \n",
       " test3.xlsx       1     255]"
      ]
     },
     "execution_count": 54,
     "metadata": {},
     "output_type": "execute_result"
    }
   ],
   "source": [
    "df_list=[getfiles(fnames) for fnames in Filenames]\n",
    "df_list"
   ]
  },
  {
   "cell_type": "code",
   "execution_count": 55,
   "metadata": {},
   "outputs": [
    {
     "data": {
      "text/html": [
       "<div>\n",
       "<style>\n",
       "    .dataframe thead tr:only-child th {\n",
       "        text-align: right;\n",
       "    }\n",
       "\n",
       "    .dataframe thead th {\n",
       "        text-align: left;\n",
       "    }\n",
       "\n",
       "    .dataframe tbody tr th {\n",
       "        vertical-align: top;\n",
       "    }\n",
       "</style>\n",
       "<table border=\"1\" class=\"dataframe\">\n",
       "  <thead>\n",
       "    <tr style=\"text-align: right;\">\n",
       "      <th></th>\n",
       "      <th>Chanel</th>\n",
       "      <th>Number</th>\n",
       "    </tr>\n",
       "    <tr>\n",
       "      <th>File</th>\n",
       "      <th></th>\n",
       "      <th></th>\n",
       "    </tr>\n",
       "  </thead>\n",
       "  <tbody>\n",
       "    <tr>\n",
       "      <th>test1.xlsx</th>\n",
       "      <td>1</td>\n",
       "      <td>255</td>\n",
       "    </tr>\n",
       "    <tr>\n",
       "      <th>test2.xlsx</th>\n",
       "      <td>1</td>\n",
       "      <td>255</td>\n",
       "    </tr>\n",
       "    <tr>\n",
       "      <th>test3.xlsx</th>\n",
       "      <td>1</td>\n",
       "      <td>255</td>\n",
       "    </tr>\n",
       "  </tbody>\n",
       "</table>\n",
       "</div>"
      ],
      "text/plain": [
       "            Chanel  Number\n",
       "File                      \n",
       "test1.xlsx       1     255\n",
       "test2.xlsx       1     255\n",
       "test3.xlsx       1     255"
      ]
     },
     "execution_count": 55,
     "metadata": {},
     "output_type": "execute_result"
    }
   ],
   "source": [
    "# Unificar los DataFrame\n",
    "big_df=pd.concat(df_list)\n",
    "big_df"
   ]
  },
  {
   "cell_type": "code",
   "execution_count": 56,
   "metadata": {},
   "outputs": [
    {
     "data": {
      "image/png": "[encoded data removed]",
      "text/plain": [
       "<matplotlib.figure.Figure at 0x1685f064978>"
      ]
     },
     "metadata": {},
     "output_type": "display_data"
    }
   ],
   "source": [
    "big_df[\"Chanel\"].plot.bar()\n",
    "plt.show()"
   ]
  },
  {
   "cell_type": "code",
   "execution_count": 60,
   "metadata": {},
   "outputs": [
    {
     "data": {
      "text/plain": [
       "Chanel      1\n",
       "Number    255\n",
       "Name: test2.xlsx, dtype: int64"
      ]
     },
     "execution_count": 60,
     "metadata": {},
     "output_type": "execute_result"
    }
   ],
   "source": [
    "big_df.loc[\"test2.xlsx\"]"
   ]
  }
 ],
 "metadata": {
  "kernelspec": {
   "display_name": "Python 3",
   "language": "python",
   "name": "python3"
  },
  "language_info": {
   "codemirror_mode": {
    "name": "ipython",
    "version": 3
   },
   "file_extension": ".py",
   "mimetype": "text/x-python",
   "name": "python",
   "nbconvert_exporter": "python",
   "pygments_lexer": "ipython3",
   "version": "3.6.1"
  }
 },
 "nbformat": 4,
 "nbformat_minor": 2
}
